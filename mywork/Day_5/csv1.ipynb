{
 "cells": [
  {
   "cell_type": "markdown",
   "metadata": {},
   "source": [
    "csv module or pandas"
   ]
  },
  {
   "cell_type": "code",
   "execution_count": 4,
   "metadata": {},
   "outputs": [
    {
     "name": "stdout",
     "output_type": "stream",
     "text": [
      "['Name', 'Age', 'City']\n",
      "['Alice', '25', 'New York']\n",
      "['Bob', '30', 'Los Angeles']\n",
      "['Charlie', '22', 'Chicago']\n"
     ]
    }
   ],
   "source": [
    "import csv\n",
    "with open('output.csv',mode='r') as file:\n",
    "    csv_read=csv.reader(file)\n",
    "    for row in csv_read:\n",
    "        print(row)"
   ]
  },
  {
   "cell_type": "code",
   "execution_count": 5,
   "metadata": {},
   "outputs": [
    {
     "name": "stdout",
     "output_type": "stream",
     "text": [
      "{'Name': 'Alice', 'Age': '25', 'City': 'New York'}\n",
      "{'Name': 'Bob', 'Age': '30', 'City': 'Los Angeles'}\n",
      "{'Name': 'Charlie', 'Age': '22', 'City': 'Chicago'}\n"
     ]
    }
   ],
   "source": [
    "import csv\n",
    "with open('output.csv', mode='r') as file:\n",
    "    csv_reader = csv.DictReader(file)\n",
    "    for row in csv_reader:\n",
    "        print(row)"
   ]
  },
  {
   "cell_type": "code",
   "execution_count": 7,
   "metadata": {},
   "outputs": [
    {
     "name": "stdout",
     "output_type": "stream",
     "text": [
      "Collecting pandas\n",
      "  Downloading pandas-2.2.1-cp312-cp312-win_amd64.whl.metadata (19 kB)\n",
      "Collecting numpy<2,>=1.26.0 (from pandas)\n",
      "  Downloading numpy-1.26.4-cp312-cp312-win_amd64.whl.metadata (61 kB)\n",
      "     ---------------------------------------- 0.0/61.0 kB ? eta -:--:--\n",
      "     ---------------------------------------- 0.0/61.0 kB ? eta -:--:--\n",
      "     ------------------------- ------------ 41.0/61.0 kB 653.6 kB/s eta 0:00:01\n",
      "     -------------------------------------- 61.0/61.0 kB 651.3 kB/s eta 0:00:00\n",
      "Requirement already satisfied: python-dateutil>=2.8.2 in c:\\users\\bhuvaneshwari.s\\downloads\\python\\venv\\lib\\site-packages (from pandas) (2.9.0.post0)\n",
      "Collecting pytz>=2020.1 (from pandas)\n",
      "  Downloading pytz-2024.1-py2.py3-none-any.whl.metadata (22 kB)\n",
      "Collecting tzdata>=2022.7 (from pandas)\n",
      "  Downloading tzdata-2024.1-py2.py3-none-any.whl.metadata (1.4 kB)\n",
      "Requirement already satisfied: six>=1.5 in c:\\users\\bhuvaneshwari.s\\downloads\\python\\venv\\lib\\site-packages (from python-dateutil>=2.8.2->pandas) (1.16.0)\n",
      "Downloading pandas-2.2.1-cp312-cp312-win_amd64.whl (11.5 MB)\n",
      "   ---------------------------------------- 0.0/11.5 MB ? eta -:--:--\n",
      "    --------------------------------------- 0.3/11.5 MB 5.4 MB/s eta 0:00:03\n",
      "   - -------------------------------------- 0.4/11.5 MB 4.4 MB/s eta 0:00:03\n",
      "   - -------------------------------------- 0.6/11.5 MB 5.2 MB/s eta 0:00:03\n",
      "   --- ------------------------------------ 0.9/11.5 MB 4.6 MB/s eta 0:00:03\n",
      "   ---- ----------------------------------- 1.2/11.5 MB 4.9 MB/s eta 0:00:03\n",
      "   ----- ---------------------------------- 1.5/11.5 MB 5.2 MB/s eta 0:00:02\n",
      "   ------ --------------------------------- 2.0/11.5 MB 5.4 MB/s eta 0:00:02\n",
      "   -------- ------------------------------- 2.3/11.5 MB 5.7 MB/s eta 0:00:02\n",
      "   --------- ------------------------------ 2.6/11.5 MB 5.9 MB/s eta 0:00:02\n",
      "   --------- ------------------------------ 2.6/11.5 MB 5.9 MB/s eta 0:00:02\n",
      "   ---------- ----------------------------- 3.1/11.5 MB 5.6 MB/s eta 0:00:02\n",
      "   ----------- ---------------------------- 3.4/11.5 MB 5.7 MB/s eta 0:00:02\n",
      "   ------------ --------------------------- 3.5/11.5 MB 5.6 MB/s eta 0:00:02\n",
      "   ------------ --------------------------- 3.7/11.5 MB 5.4 MB/s eta 0:00:02\n",
      "   -------------- ------------------------- 4.0/11.5 MB 5.4 MB/s eta 0:00:02\n",
      "   -------------- ------------------------- 4.2/11.5 MB 5.3 MB/s eta 0:00:02\n",
      "   --------------- ------------------------ 4.4/11.5 MB 5.2 MB/s eta 0:00:02\n",
      "   ---------------- ----------------------- 4.7/11.5 MB 5.1 MB/s eta 0:00:02\n",
      "   ----------------- ---------------------- 5.0/11.5 MB 5.2 MB/s eta 0:00:02\n",
      "   ------------------ --------------------- 5.2/11.5 MB 5.1 MB/s eta 0:00:02\n",
      "   ------------------- -------------------- 5.6/11.5 MB 5.2 MB/s eta 0:00:02\n",
      "   ------------------- -------------------- 5.7/11.5 MB 5.1 MB/s eta 0:00:02\n",
      "   -------------------- ------------------- 5.9/11.5 MB 5.0 MB/s eta 0:00:02\n",
      "   --------------------- ------------------ 6.1/11.5 MB 5.0 MB/s eta 0:00:02\n",
      "   ---------------------- ----------------- 6.4/11.5 MB 5.0 MB/s eta 0:00:02\n",
      "   ----------------------- ---------------- 6.7/11.5 MB 5.0 MB/s eta 0:00:01\n",
      "   ------------------------ --------------- 7.0/11.5 MB 5.1 MB/s eta 0:00:01\n",
      "   ------------------------- -------------- 7.4/11.5 MB 5.1 MB/s eta 0:00:01\n",
      "   -------------------------- ------------- 7.6/11.5 MB 5.1 MB/s eta 0:00:01\n",
      "   --------------------------- ------------ 7.9/11.5 MB 5.2 MB/s eta 0:00:01\n",
      "   ---------------------------- ----------- 8.2/11.5 MB 5.2 MB/s eta 0:00:01\n",
      "   ----------------------------- ---------- 8.5/11.5 MB 5.2 MB/s eta 0:00:01\n",
      "   ------------------------------ --------- 8.8/11.5 MB 5.2 MB/s eta 0:00:01\n",
      "   ------------------------------- -------- 9.0/11.5 MB 5.2 MB/s eta 0:00:01\n",
      "   -------------------------------- ------- 9.3/11.5 MB 5.2 MB/s eta 0:00:01\n",
      "   --------------------------------- ------ 9.6/11.5 MB 5.3 MB/s eta 0:00:01\n",
      "   ---------------------------------- ----- 9.8/11.5 MB 5.2 MB/s eta 0:00:01\n",
      "   ----------------------------------- ---- 10.1/11.5 MB 5.3 MB/s eta 0:00:01\n",
      "   ----------------------------------- ---- 10.3/11.5 MB 5.2 MB/s eta 0:00:01\n",
      "   ------------------------------------- -- 10.6/11.5 MB 5.3 MB/s eta 0:00:01\n",
      "   ------------------------------------- -- 10.9/11.5 MB 5.4 MB/s eta 0:00:01\n",
      "   -------------------------------------- - 11.2/11.5 MB 5.4 MB/s eta 0:00:01\n",
      "   ---------------------------------------  11.5/11.5 MB 5.3 MB/s eta 0:00:01\n",
      "   ---------------------------------------  11.5/11.5 MB 5.3 MB/s eta 0:00:01\n",
      "   ---------------------------------------- 11.5/11.5 MB 5.2 MB/s eta 0:00:00\n",
      "Downloading numpy-1.26.4-cp312-cp312-win_amd64.whl (15.5 MB)\n",
      "   ---------------------------------------- 0.0/15.5 MB ? eta -:--:--\n",
      "    --------------------------------------- 0.2/15.5 MB 7.3 MB/s eta 0:00:03\n",
      "   - -------------------------------------- 0.5/15.5 MB 6.8 MB/s eta 0:00:03\n",
      "   - -------------------------------------- 0.8/15.5 MB 6.1 MB/s eta 0:00:03\n",
      "   -- ------------------------------------- 1.0/15.5 MB 5.4 MB/s eta 0:00:03\n",
      "   --- ------------------------------------ 1.2/15.5 MB 5.6 MB/s eta 0:00:03\n",
      "   ---- ----------------------------------- 1.6/15.5 MB 5.5 MB/s eta 0:00:03\n",
      "   ---- ----------------------------------- 1.7/15.5 MB 5.8 MB/s eta 0:00:03\n",
      "   ----- ---------------------------------- 2.2/15.5 MB 5.7 MB/s eta 0:00:03\n",
      "   ------ --------------------------------- 2.4/15.5 MB 5.7 MB/s eta 0:00:03\n",
      "   ------- -------------------------------- 2.8/15.5 MB 5.7 MB/s eta 0:00:03\n",
      "   ------- -------------------------------- 3.1/15.5 MB 5.7 MB/s eta 0:00:03\n",
      "   -------- ------------------------------- 3.3/15.5 MB 5.7 MB/s eta 0:00:03\n",
      "   --------- ------------------------------ 3.6/15.5 MB 5.8 MB/s eta 0:00:03\n",
      "   ---------- ----------------------------- 4.0/15.5 MB 5.8 MB/s eta 0:00:02\n",
      "   ---------- ----------------------------- 4.2/15.5 MB 5.7 MB/s eta 0:00:02\n",
      "   ----------- ---------------------------- 4.6/15.5 MB 5.9 MB/s eta 0:00:02\n",
      "   ------------ --------------------------- 4.9/15.5 MB 5.9 MB/s eta 0:00:02\n",
      "   ------------- -------------------------- 5.1/15.5 MB 5.9 MB/s eta 0:00:02\n",
      "   -------------- ------------------------- 5.5/15.5 MB 5.8 MB/s eta 0:00:02\n",
      "   --------------- ------------------------ 5.8/15.5 MB 5.9 MB/s eta 0:00:02\n",
      "   --------------- ------------------------ 6.2/15.5 MB 6.0 MB/s eta 0:00:02\n",
      "   ---------------- ----------------------- 6.5/15.5 MB 6.0 MB/s eta 0:00:02\n",
      "   ----------------- ---------------------- 6.8/15.5 MB 6.0 MB/s eta 0:00:02\n",
      "   ----------------- ---------------------- 7.0/15.5 MB 5.9 MB/s eta 0:00:02\n",
      "   ------------------- -------------------- 7.4/15.5 MB 6.0 MB/s eta 0:00:02\n",
      "   ------------------- -------------------- 7.7/15.5 MB 6.0 MB/s eta 0:00:02\n",
      "   -------------------- ------------------- 8.0/15.5 MB 6.0 MB/s eta 0:00:02\n",
      "   --------------------- ------------------ 8.4/15.5 MB 6.1 MB/s eta 0:00:02\n",
      "   ---------------------- ----------------- 8.7/15.5 MB 6.1 MB/s eta 0:00:02\n",
      "   ----------------------- ---------------- 9.0/15.5 MB 6.1 MB/s eta 0:00:02\n",
      "   ------------------------ --------------- 9.4/15.5 MB 6.1 MB/s eta 0:00:02\n",
      "   ------------------------ --------------- 9.7/15.5 MB 6.1 MB/s eta 0:00:01\n",
      "   -------------------------- ------------- 10.1/15.5 MB 6.2 MB/s eta 0:00:01\n",
      "   -------------------------- ------------- 10.4/15.5 MB 6.2 MB/s eta 0:00:01\n",
      "   --------------------------- ------------ 10.8/15.5 MB 6.2 MB/s eta 0:00:01\n",
      "   ---------------------------- ----------- 11.1/15.5 MB 6.3 MB/s eta 0:00:01\n",
      "   ----------------------------- ---------- 11.3/15.5 MB 6.3 MB/s eta 0:00:01\n",
      "   ----------------------------- ---------- 11.5/15.5 MB 6.2 MB/s eta 0:00:01\n",
      "   ------------------------------ --------- 11.7/15.5 MB 6.2 MB/s eta 0:00:01\n",
      "   ------------------------------ --------- 12.0/15.5 MB 6.4 MB/s eta 0:00:01\n",
      "   ------------------------------- -------- 12.3/15.5 MB 6.2 MB/s eta 0:00:01\n",
      "   -------------------------------- ------- 12.7/15.5 MB 6.4 MB/s eta 0:00:01\n",
      "   --------------------------------- ------ 13.0/15.5 MB 6.3 MB/s eta 0:00:01\n",
      "   ---------------------------------- ----- 13.2/15.5 MB 6.3 MB/s eta 0:00:01\n",
      "   ---------------------------------- ----- 13.5/15.5 MB 6.3 MB/s eta 0:00:01\n",
      "   ----------------------------------- ---- 13.8/15.5 MB 6.4 MB/s eta 0:00:01\n",
      "   ------------------------------------ --- 14.2/15.5 MB 6.3 MB/s eta 0:00:01\n",
      "   ------------------------------------- -- 14.5/15.5 MB 6.4 MB/s eta 0:00:01\n",
      "   ------------------------------------- -- 14.7/15.5 MB 6.4 MB/s eta 0:00:01\n",
      "   -------------------------------------- - 15.0/15.5 MB 6.4 MB/s eta 0:00:01\n",
      "   ---------------------------------------  15.3/15.5 MB 6.2 MB/s eta 0:00:01\n",
      "   ---------------------------------------  15.5/15.5 MB 6.3 MB/s eta 0:00:01\n",
      "   ---------------------------------------  15.5/15.5 MB 6.3 MB/s eta 0:00:01\n",
      "   ---------------------------------------- 15.5/15.5 MB 6.0 MB/s eta 0:00:00\n",
      "Downloading pytz-2024.1-py2.py3-none-any.whl (505 kB)\n",
      "   ---------------------------------------- 0.0/505.5 kB ? eta -:--:--\n",
      "   ----------------- ---------------------- 225.3/505.5 kB 6.9 MB/s eta 0:00:01\n",
      "   ---------------------------------------  501.8/505.5 kB 6.3 MB/s eta 0:00:01\n",
      "   ---------------------------------------- 505.5/505.5 kB 4.5 MB/s eta 0:00:00\n",
      "Downloading tzdata-2024.1-py2.py3-none-any.whl (345 kB)\n",
      "   ---------------------------------------- 0.0/345.4 kB ? eta -:--:--\n",
      "   -------------------------------- ------- 276.5/345.4 kB 8.6 MB/s eta 0:00:01\n",
      "   ---------------------------------------- 345.4/345.4 kB 5.4 MB/s eta 0:00:00\n",
      "Installing collected packages: pytz, tzdata, numpy, pandas\n",
      "Successfully installed numpy-1.26.4 pandas-2.2.1 pytz-2024.1 tzdata-2024.1\n",
      "Note: you may need to restart the kernel to use updated packages.\n"
     ]
    }
   ],
   "source": [
    "pip install pandas"
   ]
  },
  {
   "cell_type": "code",
   "execution_count": 9,
   "metadata": {},
   "outputs": [
    {
     "name": "stdout",
     "output_type": "stream",
     "text": [
      "      Name  Age         City\n",
      "0    Alice   25     New York\n",
      "1      Bob   30  Los Angeles\n",
      "2  Charlie   22      Chicago\n"
     ]
    }
   ],
   "source": [
    "import pandas\n",
    "csvFile = pandas.read_csv('output.csv')\n",
    "print(csvFile)"
   ]
  },
  {
   "cell_type": "code",
   "execution_count": 11,
   "metadata": {},
   "outputs": [
    {
     "data": {
      "text/html": [
       "<div>\n",
       "<style scoped>\n",
       "    .dataframe tbody tr th:only-of-type {\n",
       "        vertical-align: middle;\n",
       "    }\n",
       "\n",
       "    .dataframe tbody tr th {\n",
       "        vertical-align: top;\n",
       "    }\n",
       "\n",
       "    .dataframe thead th {\n",
       "        text-align: right;\n",
       "    }\n",
       "</style>\n",
       "<table border=\"1\" class=\"dataframe\">\n",
       "  <thead>\n",
       "    <tr style=\"text-align: right;\">\n",
       "      <th></th>\n",
       "      <th>Name</th>\n",
       "      <th>Age</th>\n",
       "      <th>City</th>\n",
       "    </tr>\n",
       "  </thead>\n",
       "  <tbody>\n",
       "    <tr>\n",
       "      <th>0</th>\n",
       "      <td>Alice</td>\n",
       "      <td>25</td>\n",
       "      <td>New York</td>\n",
       "    </tr>\n",
       "  </tbody>\n",
       "</table>\n",
       "</div>"
      ],
      "text/plain": [
       "    Name  Age      City\n",
       "0  Alice   25  New York"
      ]
     },
     "execution_count": 11,
     "metadata": {},
     "output_type": "execute_result"
    }
   ],
   "source": [
    "csvFile.head(1)"
   ]
  },
  {
   "cell_type": "code",
   "execution_count": 12,
   "metadata": {},
   "outputs": [
    {
     "name": "stdout",
     "output_type": "stream",
     "text": [
      "CSV file written successfully.\n"
     ]
    }
   ],
   "source": [
    "import csv\n",
    "\n",
    "data = [\n",
    "    ['Name', 'Age', 'City','State'],\n",
    "    ['Alice', 25, 'New York','Tamilnadu'],\n",
    "    ['Bob', 30, 'Los Angeles','Tamilnadu'],\n",
    "    ['Charlie', 22, 'Chicago','Tamilnadu'],\n",
    "    ['Lili', 20, \"Chennai\",'Tamilnadu']\n",
    "]\n",
    "\n",
    "with open('output.csv', mode='w', newline='') as file:\n",
    "    csv_writer = csv.writer(file)\n",
    "    for row in data:\n",
    "        csv_writer.writerow(row)\n",
    "print('CSV file written successfully.')\n"
   ]
  },
  {
   "cell_type": "code",
   "execution_count": 13,
   "metadata": {},
   "outputs": [
    {
     "name": "stdout",
     "output_type": "stream",
     "text": [
      "CSV file written successfully.\n"
     ]
    }
   ],
   "source": [
    "import csv\n",
    "data = [\n",
    "    {'Name': 'Alice', 'Age': 25, 'City': 'New York'},\n",
    "    {'Name': 'Bob', 'Age': 30, 'City': 'Los Angeles'},\n",
    "    {'Name': 'Charlie', 'Age': 22, 'City': 'Chicago'}\n",
    "]\n",
    "fieldnames = ['Name', 'Age', 'City']\n",
    "with open('output.csv', mode='w', newline='') as file:\n",
    "    csv_writer = csv.DictWriter(file, fieldnames=fieldnames)\n",
    "    csv_writer.writeheader()\n",
    "    for row in data:\n",
    "        csv_writer.writerow(row)\n",
    "print('CSV file written successfully.')\n"
   ]
  },
  {
   "cell_type": "code",
   "execution_count": null,
   "metadata": {},
   "outputs": [],
   "source": []
  }
 ],
 "metadata": {
  "kernelspec": {
   "display_name": "venv",
   "language": "python",
   "name": "python3"
  },
  "language_info": {
   "codemirror_mode": {
    "name": "ipython",
    "version": 3
   },
   "file_extension": ".py",
   "mimetype": "text/x-python",
   "name": "python",
   "nbconvert_exporter": "python",
   "pygments_lexer": "ipython3",
   "version": "3.12.0"
  }
 },
 "nbformat": 4,
 "nbformat_minor": 2
}
