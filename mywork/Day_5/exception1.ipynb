{
 "cells": [
  {
   "cell_type": "code",
   "execution_count": 1,
   "metadata": {},
   "outputs": [
    {
     "name": "stdout",
     "output_type": "stream",
     "text": [
      "Error: Division by zero!\n"
     ]
    }
   ],
   "source": [
    "try:\n",
    "    num1=int(input(\"Enter num1\"))\n",
    "    num2=int(input(\"Enter num2\"))\n",
    "    res=num1/num2\n",
    "except ZeroDivisionError:\n",
    "    print(\"Error: Division by zero!\")\n",
    "except ValueError:\n",
    "    print(\"Error: Invalid input! Please enter valid integers\")"
   ]
  },
  {
   "cell_type": "code",
   "execution_count": null,
   "metadata": {},
   "outputs": [],
   "source": []
  }
 ],
 "metadata": {
  "kernelspec": {
   "display_name": "venv",
   "language": "python",
   "name": "python3"
  },
  "language_info": {
   "codemirror_mode": {
    "name": "ipython",
    "version": 3
   },
   "file_extension": ".py",
   "mimetype": "text/x-python",
   "name": "python",
   "nbconvert_exporter": "python",
   "pygments_lexer": "ipython3",
   "version": "3.12.0"
  }
 },
 "nbformat": 4,
 "nbformat_minor": 2
}
